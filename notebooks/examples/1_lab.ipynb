{
 "cells": [
  {
   "cell_type": "markdown",
   "metadata": {},
   "source": [
    "# 1 - Starting\n",
    "\n",
    "Add BASE_DIR to path env\n"
   ]
  },
  {
   "cell_type": "code",
   "execution_count": 2,
   "metadata": {},
   "outputs": [],
   "source": [
    "import pathlib\n",
    "import sys\n",
    "\n",
    "BASE_DIR = pathlib.Path().absolute().parent\n",
    "sys.path.append(str(BASE_DIR))"
   ]
  },
  {
   "cell_type": "markdown",
   "metadata": {},
   "source": [
    "# Comparing Import Time\n"
   ]
  },
  {
   "cell_type": "code",
   "execution_count": 3,
   "metadata": {},
   "outputs": [
    {
     "name": "stdout",
     "output_type": "stream",
     "text": [
      "Tempo de importação (segundos):\n",
      "----------------------------------------\n",
      "pandas    : 0.425536\n",
      "cudf      : 1.550308\n",
      "polars    : 0.071201\n",
      "----------------------------------------\n"
     ]
    }
   ],
   "source": [
    "import time\n",
    "\n",
    "# Lista das bibliotecas para testar\n",
    "bibliotecas = [\"pandas\", \"cudf\", \"polars\"]\n",
    "\n",
    "print(\"Tempo de importação (segundos):\")\n",
    "print(\"-\" * 40)\n",
    "\n",
    "for lib in bibliotecas:\n",
    "    try:\n",
    "        start = time.perf_counter()  # Mais preciso que time.time()\n",
    "        __import__(lib)  # Importa a biblioteca\n",
    "        end = time.perf_counter()\n",
    "        print(f\"{lib:10}: {(end - start):.6f}\")\n",
    "    except ImportError:\n",
    "        print(f\"{lib:10}: Não instalada\")\n",
    "\n",
    "print(\"-\" * 40)"
   ]
  },
  {
   "cell_type": "markdown",
   "metadata": {},
   "source": [
    "# CUDF\n"
   ]
  },
  {
   "cell_type": "code",
   "execution_count": 4,
   "metadata": {},
   "outputs": [
    {
     "data": {
      "text/html": [
       "<div>\n",
       "<style scoped>\n",
       "    .dataframe tbody tr th:only-of-type {\n",
       "        vertical-align: middle;\n",
       "    }\n",
       "\n",
       "    .dataframe tbody tr th {\n",
       "        vertical-align: top;\n",
       "    }\n",
       "\n",
       "    .dataframe thead th {\n",
       "        text-align: right;\n",
       "    }\n",
       "</style>\n",
       "<table border=\"1\" class=\"dataframe\">\n",
       "  <thead>\n",
       "    <tr style=\"text-align: right;\">\n",
       "      <th></th>\n",
       "      <th>a</th>\n",
       "      <th>b</th>\n",
       "    </tr>\n",
       "  </thead>\n",
       "  <tbody>\n",
       "    <tr>\n",
       "      <th>0</th>\n",
       "      <td>1</td>\n",
       "      <td>4</td>\n",
       "    </tr>\n",
       "    <tr>\n",
       "      <th>1</th>\n",
       "      <td>2</td>\n",
       "      <td>5</td>\n",
       "    </tr>\n",
       "    <tr>\n",
       "      <th>2</th>\n",
       "      <td>3</td>\n",
       "      <td>6</td>\n",
       "    </tr>\n",
       "  </tbody>\n",
       "</table>\n",
       "</div>"
      ],
      "text/plain": [
       "   a  b\n",
       "0  1  4\n",
       "1  2  5\n",
       "2  3  6"
      ]
     },
     "metadata": {},
     "output_type": "display_data"
    },
    {
     "data": {
      "text/plain": [
       "a     6\n",
       "b    15\n",
       "dtype: int64"
      ]
     },
     "execution_count": 4,
     "metadata": {},
     "output_type": "execute_result"
    }
   ],
   "source": [
    "import cudf\n",
    "\n",
    "cudf_df = cudf.DataFrame({\"a\": [1, 2, 3], \"b\": [4, 5, 6]})\n",
    "display(cudf_df)\n",
    "cudf_df = cudf_df.sum()\n",
    "cudf_df"
   ]
  },
  {
   "cell_type": "markdown",
   "metadata": {},
   "source": [
    "# Polars\n"
   ]
  },
  {
   "cell_type": "code",
   "execution_count": 5,
   "metadata": {},
   "outputs": [
    {
     "data": {
      "text/html": [
       "<div><style>\n",
       ".dataframe > thead > tr,\n",
       ".dataframe > tbody > tr {\n",
       "  text-align: right;\n",
       "  white-space: pre-wrap;\n",
       "}\n",
       "</style>\n",
       "<small>shape: (3, 2)</small><table border=\"1\" class=\"dataframe\"><thead><tr><th>a</th><th>b</th></tr><tr><td>i64</td><td>i64</td></tr></thead><tbody><tr><td>1</td><td>4</td></tr><tr><td>2</td><td>5</td></tr><tr><td>3</td><td>6</td></tr></tbody></table></div>"
      ],
      "text/plain": [
       "shape: (3, 2)\n",
       "┌─────┬─────┐\n",
       "│ a   ┆ b   │\n",
       "│ --- ┆ --- │\n",
       "│ i64 ┆ i64 │\n",
       "╞═════╪═════╡\n",
       "│ 1   ┆ 4   │\n",
       "│ 2   ┆ 5   │\n",
       "│ 3   ┆ 6   │\n",
       "└─────┴─────┘"
      ]
     },
     "metadata": {},
     "output_type": "display_data"
    },
    {
     "data": {
      "text/html": [
       "<div><style>\n",
       ".dataframe > thead > tr,\n",
       ".dataframe > tbody > tr {\n",
       "  text-align: right;\n",
       "  white-space: pre-wrap;\n",
       "}\n",
       "</style>\n",
       "<small>shape: (1, 2)</small><table border=\"1\" class=\"dataframe\"><thead><tr><th>a</th><th>b</th></tr><tr><td>i64</td><td>i64</td></tr></thead><tbody><tr><td>6</td><td>15</td></tr></tbody></table></div>"
      ],
      "text/plain": [
       "shape: (1, 2)\n",
       "┌─────┬─────┐\n",
       "│ a   ┆ b   │\n",
       "│ --- ┆ --- │\n",
       "│ i64 ┆ i64 │\n",
       "╞═════╪═════╡\n",
       "│ 6   ┆ 15  │\n",
       "└─────┴─────┘"
      ]
     },
     "execution_count": 5,
     "metadata": {},
     "output_type": "execute_result"
    }
   ],
   "source": [
    "import polars as pl\n",
    "\n",
    "pl.Config.set_tbl_rows(10)\n",
    "pl.Config.set_tbl_cols(100)\n",
    "pl.Config.set_tbl_width_chars(10000)\n",
    "pl.enable_string_cache()\n",
    "\n",
    "polars_df = pl.DataFrame({\"a\": [1, 2, 3], \"b\": [4, 5, 6]})\n",
    "display(polars_df)\n",
    "polars_df = polars_df.sum()\n",
    "polars_df"
   ]
  },
  {
   "cell_type": "markdown",
   "metadata": {},
   "source": [
    "# Pandas\n"
   ]
  },
  {
   "cell_type": "code",
   "execution_count": 6,
   "metadata": {},
   "outputs": [
    {
     "data": {
      "text/html": [
       "<div>\n",
       "<style scoped>\n",
       "    .dataframe tbody tr th:only-of-type {\n",
       "        vertical-align: middle;\n",
       "    }\n",
       "\n",
       "    .dataframe tbody tr th {\n",
       "        vertical-align: top;\n",
       "    }\n",
       "\n",
       "    .dataframe thead th {\n",
       "        text-align: right;\n",
       "    }\n",
       "</style>\n",
       "<table border=\"1\" class=\"dataframe\">\n",
       "  <thead>\n",
       "    <tr style=\"text-align: right;\">\n",
       "      <th></th>\n",
       "      <th>a</th>\n",
       "      <th>b</th>\n",
       "    </tr>\n",
       "  </thead>\n",
       "  <tbody>\n",
       "    <tr>\n",
       "      <th>0</th>\n",
       "      <td>1</td>\n",
       "      <td>4</td>\n",
       "    </tr>\n",
       "    <tr>\n",
       "      <th>1</th>\n",
       "      <td>2</td>\n",
       "      <td>5</td>\n",
       "    </tr>\n",
       "    <tr>\n",
       "      <th>2</th>\n",
       "      <td>3</td>\n",
       "      <td>6</td>\n",
       "    </tr>\n",
       "  </tbody>\n",
       "</table>\n",
       "</div>"
      ],
      "text/plain": [
       "   a  b\n",
       "0  1  4\n",
       "1  2  5\n",
       "2  3  6"
      ]
     },
     "metadata": {},
     "output_type": "display_data"
    },
    {
     "data": {
      "text/plain": [
       "a     6\n",
       "b    15\n",
       "dtype: int64"
      ]
     },
     "execution_count": 6,
     "metadata": {},
     "output_type": "execute_result"
    }
   ],
   "source": [
    "import pandas as pd\n",
    "\n",
    "pandas_df = pd.DataFrame({\"a\": [1, 2, 3], \"b\": [4, 5, 6]})\n",
    "display(pandas_df)\n",
    "pandas_df = pandas_df.sum()\n",
    "pandas_df"
   ]
  },
  {
   "cell_type": "markdown",
   "metadata": {},
   "source": [
    "# Comparing Execution Time\n"
   ]
  },
  {
   "cell_type": "code",
   "execution_count": 7,
   "metadata": {},
   "outputs": [
    {
     "data": {
      "text/html": [
       "<div>\n",
       "<style scoped>\n",
       "    .dataframe tbody tr th:only-of-type {\n",
       "        vertical-align: middle;\n",
       "    }\n",
       "\n",
       "    .dataframe tbody tr th {\n",
       "        vertical-align: top;\n",
       "    }\n",
       "\n",
       "    .dataframe thead th {\n",
       "        text-align: right;\n",
       "    }\n",
       "</style>\n",
       "<table border=\"1\" class=\"dataframe\">\n",
       "  <thead>\n",
       "    <tr style=\"text-align: right;\">\n",
       "      <th></th>\n",
       "      <th>library</th>\n",
       "      <th>create_df_s</th>\n",
       "      <th>filter_s</th>\n",
       "      <th>sort_s</th>\n",
       "      <th>groupby_mean_s</th>\n",
       "    </tr>\n",
       "  </thead>\n",
       "  <tbody>\n",
       "    <tr>\n",
       "      <th>0</th>\n",
       "      <td>pandas</td>\n",
       "      <td>0.028860</td>\n",
       "      <td>0.307135</td>\n",
       "      <td>2.103085</td>\n",
       "      <td>0.195894</td>\n",
       "    </tr>\n",
       "    <tr>\n",
       "      <th>1</th>\n",
       "      <td>polars</td>\n",
       "      <td>0.482869</td>\n",
       "      <td>0.072265</td>\n",
       "      <td>0.465482</td>\n",
       "      <td>0.123118</td>\n",
       "    </tr>\n",
       "    <tr>\n",
       "      <th>2</th>\n",
       "      <td>cudf</td>\n",
       "      <td>0.957405</td>\n",
       "      <td>0.037192</td>\n",
       "      <td>0.160478</td>\n",
       "      <td>0.071120</td>\n",
       "    </tr>\n",
       "  </tbody>\n",
       "</table>\n",
       "</div>"
      ],
      "text/plain": [
       "  library  create_df_s  filter_s    sort_s  groupby_mean_s\n",
       "0  pandas     0.028860  0.307135  2.103085        0.195894\n",
       "1  polars     0.482869  0.072265  0.465482        0.123118\n",
       "2    cudf     0.957405  0.037192  0.160478        0.071120"
      ]
     },
     "execution_count": 7,
     "metadata": {},
     "output_type": "execute_result"
    }
   ],
   "source": [
    "import time\n",
    "import importlib\n",
    "import numpy as np\n",
    "\n",
    "# --- Config -------------------------------------------------------------\n",
    "N_ROWS, N_COLS = 10_000_000, 10\n",
    "np.random.seed(42)\n",
    "base = np.random.rand(N_ROWS, N_COLS)\n",
    "cols = [f\"col{i}\" for i in range(N_COLS)]\n",
    "groups = np.random.randint(0, 10, size=N_ROWS)\n",
    "libs = [\"pandas\", \"polars\", \"cudf\"]\n",
    "results = []\n",
    "\n",
    "# ------------------------------------------------------------------------\n",
    "for name in libs:\n",
    "    try:\n",
    "        mod = importlib.import_module(name)\n",
    "\n",
    "        # -------- DataFrame ------------------------------------------------\n",
    "        t0 = time.perf_counter()\n",
    "        if name == \"pandas\":\n",
    "            df = mod.DataFrame(base, columns=cols)\n",
    "            df[\"grp\"] = groups\n",
    "        elif name == \"polars\":\n",
    "            import polars as pl\n",
    "\n",
    "            df = pl.DataFrame({c: base[:, i] for i, c in enumerate(cols)})\n",
    "            df = df.with_columns(pl.Series(\"grp\", groups))\n",
    "        elif name == \"cudf\":\n",
    "            import cudf\n",
    "\n",
    "            df = cudf.DataFrame({c: base[:, i] for i, c in enumerate(cols)})\n",
    "            df[\"grp\"] = groups\n",
    "        make_t = time.perf_counter() - t0\n",
    "\n",
    "        # -------- Filter ---------------------------------------------------\n",
    "        t0 = time.perf_counter()\n",
    "        filt = df.filter(pl.col(\"col0\") > 0.5) if name == \"polars\" else df[df[\"col0\"] > 0.5]\n",
    "        filt_t = time.perf_counter() - t0\n",
    "\n",
    "        # -------- Sort -----------------------------------------------------\n",
    "        t0 = time.perf_counter()\n",
    "        sort = df.sort(\"col1\") if name == \"polars\" else df.sort_values(\"col1\")\n",
    "        sort_t = time.perf_counter() - t0\n",
    "\n",
    "        # -------- Group-by mean -------------------------------------------\n",
    "        t0 = time.perf_counter()\n",
    "        if name == \"polars\":\n",
    "            try:\n",
    "                gb = df.group_by(\"grp\")  # >= 0.19\n",
    "            except AttributeError:\n",
    "                gb = df.groupby(\"grp\")  # < 0.19\n",
    "            try:\n",
    "                agg = gb.mean()  # se existir\n",
    "            except AttributeError:\n",
    "                agg = gb.agg(pl.all().mean())  # fallback\n",
    "        else:  # pandas / cudf\n",
    "            agg = df.groupby(\"grp\").mean()\n",
    "        agg_t = time.perf_counter() - t0\n",
    "\n",
    "        results.append(dict(library=name, create_df_s=make_t, filter_s=filt_t, sort_s=sort_t, groupby_mean_s=agg_t))\n",
    "    except Exception as e:\n",
    "        results.append(dict(library=name, error=str(e)))\n",
    "\n",
    "# ------------------------------------------------------------------------\n",
    "bench = pd.DataFrame(results)\n",
    "bench"
   ]
  }
 ],
 "metadata": {
  "kernelspec": {
   "display_name": ".venv",
   "language": "python",
   "name": "python3"
  },
  "language_info": {
   "codemirror_mode": {
    "name": "ipython",
    "version": 3
   },
   "file_extension": ".py",
   "mimetype": "text/x-python",
   "name": "python",
   "nbconvert_exporter": "python",
   "pygments_lexer": "ipython3",
   "version": "3.11.11"
  }
 },
 "nbformat": 4,
 "nbformat_minor": 2
}
